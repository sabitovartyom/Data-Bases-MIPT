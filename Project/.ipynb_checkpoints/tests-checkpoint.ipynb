{
 "cells": [
  {
   "cell_type": "code",
   "execution_count": 1,
   "id": "fbcd97e7-cc1d-4b44-99bb-8a15c238521e",
   "metadata": {},
   "outputs": [],
   "source": [
    "import pytest\n",
    "import sqlite3\n",
    "from sqlalchemy import create_engine, Column, Integer, String, Float, Date, Boolean, ForeignKey, CheckConstraint\n",
    "from sqlalchemy.orm import declarative_base, sessionmaker\n",
    "from sqlalchemy.sql import text\n",
    "from datetime import date\n",
    "import decimal"
   ]
  },
  {
   "cell_type": "code",
   "execution_count": 4,
   "id": "c02ad4bb-cd3f-4bd4-a6d0-0d9f12691f30",
   "metadata": {},
   "outputs": [],
   "source": [
    "with open('DDL.sql', 'r', encoding='utf-8') as f:\n",
    "    SCHEMA_SQL = f.read()\n",
    "\n",
    "with open('inserts.sql', 'r', encoding='utf-8') as f:\n",
    "    INSERT_SQL = f.read()\n",
    "\n",
    "REQUEST = []\n",
    "for i in range(1, 11):\n",
    "    with open('requests/request' + str(i) + '.sql', 'r', encoding='utf-8') as f:\n",
    "        REQUEST.append(f.read())"
   ]
  },
  {
   "cell_type": "code",
   "execution_count": null,
   "id": "99f87e87-aa33-4701-b266-48e8fbcdac55",
   "metadata": {},
   "outputs": [],
   "source": []
  }
 ],
 "metadata": {
  "kernelspec": {
   "display_name": "Python 3 (ipykernel)",
   "language": "python",
   "name": "python3"
  },
  "language_info": {
   "codemirror_mode": {
    "name": "ipython",
    "version": 3
   },
   "file_extension": ".py",
   "mimetype": "text/x-python",
   "name": "python",
   "nbconvert_exporter": "python",
   "pygments_lexer": "ipython3",
   "version": "3.12.3"
  }
 },
 "nbformat": 4,
 "nbformat_minor": 5
}
